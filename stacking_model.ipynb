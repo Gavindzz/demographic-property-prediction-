{
 "cells": [
  {
   "cell_type": "code",
   "execution_count": null,
   "metadata": {
    "collapsed": true
   },
   "outputs": [],
   "source": [
    "import pandas as pd\n",
    "import numpy as np\n",
    "import xgboost as xgb\n",
    "from sklearn.model_selection import StratifiedKFold\n",
    "from datetime import datetime\n",
    "from sklearn.preprocessing import StandardScaler\n",
    "from sklearn.preprocessing import LabelEncoder\n",
    "from sklearn.metrics import log_loss\n",
    "from sklearn.metrics import accuracy_score\n",
    "import gc"
   ]
  },
  {
   "cell_type": "code",
   "execution_count": null,
   "metadata": {
    "collapsed": true
   },
   "outputs": [],
   "source": [
    "def timer(start_time=None):\n",
    "    if not start_time:\n",
    "        start_time = datetime.now()\n",
    "        return start_time\n",
    "    elif start_time:\n",
    "        tmin, tsec = divmod((datetime.now() - start_time).total_seconds(), 60)\n",
    "        print(' Time taken: %i minutes and %s seconds.' %\n",
    "              (tmin, round(tsec, 2)))"
   ]
  },
  {
   "cell_type": "code",
   "execution_count": null,
   "metadata": {
    "collapsed": true
   },
   "outputs": [],
   "source": [
    "def scale_data(X, scaler=None):\n",
    "    if not scaler:\n",
    "        scaler = StandardScaler()\n",
    "        scaler.fit(X)\n",
    "    X = scaler.transform(X)\n",
    "    return X, scaler"
   ]
  },
  {
   "cell_type": "code",
   "execution_count": null,
   "metadata": {
    "collapsed": true
   },
   "outputs": [],
   "source": [
    "#------------- the stacked model: load all the predictions (6 model) and build on top of it an xgboost model-------------------------#\n",
    "\n",
    "# load xgboost predctions \n",
    "xgb1_train = pd.read_csv('xgb1_predictions_train.csv',header=0)\n",
    "xgb1_test =pd.read_csv('xgb1_predictions_test.csv',header=0)"
   ]
  },
  {
   "cell_type": "code",
   "execution_count": null,
   "metadata": {
    "collapsed": true
   },
   "outputs": [],
   "source": [
    "#load xgboost predictions with no events\n",
    "\n",
    "xgb2_train=pd.read_csv('xgb2_predictions_train.csv',header=0)\n",
    "xgb2_test=pd.read_csv('xgb2_predictions_test.csv',header=0)"
   ]
  },
  {
   "cell_type": "code",
   "execution_count": null,
   "metadata": {
    "collapsed": true
   },
   "outputs": [],
   "source": [
    "#load keras predictions with events : \n",
    "nn1_train=pd.read_csv('nn1_prediction_train.csv',header=0)\n",
    "nn1_test_train=pd.read_csv('nn1_predictions_test.csv',header=0)"
   ]
  },
  {
   "cell_type": "code",
   "execution_count": null,
   "metadata": {
    "collapsed": true
   },
   "outputs": [],
   "source": [
    "#load keras prediction with no events\n",
    "\n",
    "nn2_test=pd.read_csv('nn2_test.csv',header=0)\n",
    "nn2_train=pd.read_csv('nn2_train.csv',header=0)"
   ]
  },
  {
   "cell_type": "code",
   "execution_count": null,
   "metadata": {
    "collapsed": true
   },
   "outputs": [],
   "source": [
    "#load extra tree end RF prediction on the data with events which also has the raget variable\n",
    "\n",
    "rf_et_predictions_test=pd.read_csv('rf_et_predictions_test.csv',header=0)\n",
    "rf_et_prediction_train=pd.read_csv('rf_et_prediction_train.csv',header=0)\n",
    "columns = rf_et_prediction_train.columns.tolist()\n",
    "Target_name = columns[len(columns)-1]\n",
    "target= rf_et_prediction_train[Target_name]\n",
    "rf_et_prediction_train.drop(Target_name,axis=1,inplace=True)"
   ]
  },
  {
   "cell_type": "code",
   "execution_count": null,
   "metadata": {
    "collapsed": true
   },
   "outputs": [],
   "source": [
    "# concat all train and test data in the same ordere \n",
    "\n",
    "train=pd.concat((xgb1_train,xgb2_train,nn1_train,nn2_train,rf_et_prediction_train), axis = 1)\n",
    "test=pd.concat((xgb1_test,xgb2_test,nn1_test,nn2_test,rf_et_predictions_test),axis=1)"
   ]
  },
  {
   "cell_type": "code",
   "execution_count": null,
   "metadata": {
    "collapsed": false
   },
   "outputs": [],
   "source": [
    "################################## Actual Run Code ##################################\n",
    "lable_group = LabelEncoder()\n",
    "Y = lable_group.fit_transform(target)"
   ]
  },
  {
   "cell_type": "code",
   "execution_count": null,
   "metadata": {
    "collapsed": true
   },
   "outputs": [],
   "source": [
    "# enter the number of folds from xgb.cv\n",
    "ntest=test.shape[0]\n",
    "folds = 5\n",
    "early_stopping = 50\n",
    "oof_test = np.zeros((ntest,12))\n",
    "start_time = timer(None)"
   ]
  },
  {
   "cell_type": "code",
   "execution_count": null,
   "metadata": {
    "collapsed": false
   },
   "outputs": [],
   "source": [
    "# Load data set and target values\n",
    "test = test.loc[:,~test.columns.duplicated()]"
   ]
  },
  {
   "cell_type": "code",
   "execution_count": null,
   "metadata": {
    "collapsed": true
   },
   "outputs": [],
   "source": [
    "d_test = xgb.DMatrix(test)"
   ]
  },
  {
   "cell_type": "code",
   "execution_count": null,
   "metadata": {
    "collapsed": false
   },
   "outputs": [],
   "source": [
    "# set up KFold that matches xgb.cv number of folds\n",
    "kf = StratifiedKFold(n_splits = folds,random_state=0)\n",
    "\n",
    "#Start the CV\n",
    "for i, (train_index, test_index) in enumerate(kf.split(train,Y)):\n",
    "    print('\\n Fold %d\\n' % (i + 1))\n",
    "    X_train, X_val = train.values[train_index], train.values[test_index]\n",
    "    y_train, y_val = Y[train_index], Y[test_index]\n",
    "\n",
    "#######################################\n",
    "#\n",
    "# Define  variables\n",
    "#\n",
    "#######################################\n",
    "\n",
    "    params = {}\n",
    "    params[\"booster\"]= \"gbtree\"\n",
    "    params['objective'] = \"multi:softprob\"\n",
    "    params['eval_metric'] ='mloss'\n",
    "    params['num_class']=12\n",
    "    params['eta'] = 0.01\n",
    "    params['gamma'] = 0.1\n",
    "    params['min_child_weight'] = 1\n",
    "    params['colsample_bytree'] = 0.5\n",
    "    params['subsample'] = 0.8\n",
    "    params['max_depth'] = 7  \n",
    "    params['silent'] = 1\n",
    "    params['random_state'] = 0\n",
    "\n",
    "    d_train = xgb.DMatrix(X_train, label=y_train)\n",
    "    d_valid = xgb.DMatrix(X_val, label=y_val)\n",
    "    watchlist = [(d_train, 'train'), (d_valid, 'eval')]\n",
    "\n",
    "####################################\n",
    "#  Build Model\n",
    "####################################\n",
    "    clf = xgb.train(params,\n",
    "                    d_train,\n",
    "                    100000,\n",
    "                    watchlist,\n",
    "                    early_stopping_rounds=early_stopping) \n",
    "    timer(start_time)\n",
    "####################################\n",
    "#  Evaluate Model and Predict\n",
    "####################################\n",
    "\n",
    "    oof_test[:] += clf.predict(d_test, ntree_limit=clf.best_iteration) \n",
    "    print(' eval-accuracy: %.6f' % accuracy_score( y_val, clf.predict(d_valid), ntree_limit=clf.best_iteration))"
   ]
  },
  {
   "cell_type": "code",
   "execution_count": null,
   "metadata": {
    "collapsed": true
   },
   "outputs": [],
   "source": [
    "oof_test /= folds\n",
    "\n",
    "####################################\n",
    "#  Make a submision\n",
    "####################################\n",
    "\n",
    "result = pd.DataFrame(oof_test, columns=lable_group.classes_)\n",
    "test=pd.read_csv('/media/gavin/3fa6c02e-278d-413f-ae59-809a756c3966/huawei/age_test.csv',header=0)\n",
    "result[\"uId\"] = test.uId\n",
    "result = result.set_index(\"uId\")\n",
    "now = datetime.now()\n",
    "sub_file = 'submission_' + '_' + str(now.strftime(\"%Y-%m-%d-%H-%M\")) + '.csv'\n",
    "result.to_csv(sub_file, index=True,index_label='uId')"
   ]
  }
 ],
 "metadata": {
  "anaconda-cloud": {},
  "kernelspec": {
   "display_name": "Python [default]",
   "language": "python",
   "name": "python3"
  },
  "language_info": {
   "codemirror_mode": {
    "name": "ipython",
    "version": 3
   },
   "file_extension": ".py",
   "mimetype": "text/x-python",
   "name": "python",
   "nbconvert_exporter": "python",
   "pygments_lexer": "ipython3",
   "version": "3.5.5"
  }
 },
 "nbformat": 4,
 "nbformat_minor": 1
}
