{
 "cells": [
  {
   "cell_type": "code",
   "execution_count": 1,
   "metadata": {
    "collapsed": true
   },
   "outputs": [],
   "source": [
    "import numpy as np\n",
    "import pandas as pd\n",
    "from datetime import datetime\n",
    "from sklearn.preprocessing import StandardScaler\n",
    "from sklearn.model_selection import StratifiedKFold\n",
    "from sklearn.preprocessing import LabelEncoder\n",
    "import xgboost as xgb\n",
    "from sklearn.metrics import log_loss\n",
    "import gc"
   ]
  },
  {
   "cell_type": "code",
   "execution_count": 2,
   "metadata": {
    "collapsed": true
   },
   "outputs": [],
   "source": [
    "def timer(start_time=None):\n",
    "    if not start_time:\n",
    "        start_time = datetime.now()\n",
    "        return start_time\n",
    "    elif start_time:\n",
    "        tmin, tsec = divmod((datetime.now() - start_time).total_seconds(), 60)\n",
    "        print(' Time taken: %i minutes and %s seconds.' %\n",
    "              (tmin, round(tsec, 2)))\n"
   ]
  },
  {
   "cell_type": "code",
   "execution_count": 3,
   "metadata": {
    "collapsed": true
   },
   "outputs": [],
   "source": [
    "def scale_data(X, scaler=None):\n",
    "    if not scaler:\n",
    "        scaler = StandardScaler()\n",
    "        scaler.fit(X)\n",
    "    X = scaler.transform(X)\n",
    "    return X, scaler"
   ]
  },
  {
   "cell_type": "code",
   "execution_count": 4,
   "metadata": {
    "collapsed": true
   },
   "outputs": [],
   "source": [
    "def create_submission(score, prediction):\n",
    "    # Make Submission\n",
    "    test=pd.read_csv('/media/gavin/3fa6c02e-278d-413f-ae59-809a756c3966/huawei/age_test.csv',header=0)\n",
    "    now = datetime.datetime.now()\n",
    "    sub_file = 'submission_' + str(score) + '_' + str(now.strftime(\"%Y-%m-%d-%H-%M\")) + '.csv'\n",
    "    print('Writing submission: ', sub_file)\n",
    "    f = open(sub_file, 'w')\n",
    "    f.write('uId,label\\n')\n",
    "    total = 0\n",
    "    test_val = test['uId'].values\n",
    "    for i in range(len(test_val)):\n",
    "        str1 = str(test_val[i])\n",
    "        for j in range(1):\n",
    "            str1 += ',' + str(prediction[i][j])\n",
    "        str1 += '\\n'\n",
    "        total += 1\n",
    "        f.write(str1)\n",
    "    f.close()"
   ]
  },
  {
   "cell_type": "code",
   "execution_count": 5,
   "metadata": {
    "collapsed": true
   },
   "outputs": [],
   "source": [
    "DATA_TRAIN_PATH = '/media/gavin/3fa6c02e-278d-413f-ae59-809a756c3966/huawei/age_train.csv'\n",
    "DATA_TEST_PATH = '/media/gavin/3fa6c02e-278d-413f-ae59-809a756c3966/huawei/age_test.csv'\n",
    "USER_BASIC_INFO_PATH='/media/gavin/3fa6c02e-278d-413f-ae59-809a756c3966/huawei/user_basic_info.csv'\n",
    "USER_BEHAVIOR_INFO_PATH='/media/gavin/3fa6c02e-278d-413f-ae59-809a756c3966/huawei/user_behavior_info.csv'"
   ]
  },
  {
   "cell_type": "code",
   "execution_count": 6,
   "metadata": {
    "collapsed": true
   },
   "outputs": [],
   "source": [
    "def load_data(path_train=DATA_TRAIN_PATH, path_test=DATA_TEST_PATH,path_user_basic_info=USER_BASIC_INFO_PATH,\n",
    "              path_user_behavior_info=USER_BEHAVIOR_INFO_PATH):\n",
    "\n",
    "    basic = pd.read_csv(path_user_basic_info, names = ['uId','gender', 'city', 'prodName', 'ramCapacity', \n",
    "                                'ramLeftRation','romCapacity', 'romLeftRation', 'color', 'fontSize', \n",
    "                                'ct', 'carrier', 'os'],dtype={'uId': np.str})\n",
    "    basic.drop_duplicates('uId', keep='first', inplace=True)\n",
    "    \n",
    "    basic['gender'] = pd.factorize( basic['city'],sort=True)[0]\n",
    "    basic['city'] = pd.factorize( basic['city'],sort=True)[0]\n",
    "    basic['prodName'] = pd.factorize( basic['prodName'],sort=True)[0]   \n",
    "    basic['ramCapacity'] = pd.factorize( basic['ramCapacity'],sort=True)[0]\n",
    "    basic['ramLeftRation'] = pd.factorize( basic['ramLeftRation'],sort=True)[0]\n",
    "    basic['romCapacity'] = pd.factorize( basic['romCapacity'],sort=True)[0]\n",
    "    basic['romLeftRation'] = pd.factorize( basic['romLeftRation'],sort=True)[0]\n",
    "    basic['color'] = pd.factorize( basic['color'],sort=True)[0]\n",
    "    basic['fontSize'] = pd.factorize( basic['fontSize'],sort=True)[0]\n",
    "    basic['ct'] = pd.factorize( basic['ct'],sort=True)[0]\n",
    "    basic['carrier'] = pd.factorize( basic['carrier'],sort=True)[0]\n",
    "    basic['os'] = pd.factorize( basic['os'],sort=True)[0]\n",
    "    \n",
    "   \n",
    "    train_loader = pd.read_csv(path_train, names = ['uId','age_group'],dtype={'uId': np.str})\n",
    "    train = train_loader\n",
    "    train['age_group'] = pd.factorize( train['age_group'],sort=True)[0] \n",
    "    train = pd.merge(train, basic, how='left', on='uId', left_index=True )\n",
    "    # target\n",
    "    target = train.age_group\n",
    "   \n",
    "    train.drop(['uId','age_group'],axis =1 , inplace = True)\n",
    "    train.fillna(-1, inplace=True)\n",
    "    #train = pd.merge(train, events_small, how='left', on='device_id', left_index=True)\n",
    "\n",
    "\n",
    "    test_loader = pd.read_csv(path_test, names = ['uId'], dtype={'uId': np.str})\n",
    "    test = pd.merge(test_loader, basic, how='left', on='uId', left_index=True)\n",
    "    test.drop('uId',axis =1 , inplace = True)\n",
    "    test.fillna(-1, inplace=True)\n",
    "\n",
    " \n",
    "\n",
    "    return train,test,target"
   ]
  },
  {
   "cell_type": "code",
   "execution_count": 7,
   "metadata": {
    "collapsed": false
   },
   "outputs": [
    {
     "name": "stdout",
     "output_type": "stream",
     "text": [
      "(2010000, 12),(502500, 12)\n"
     ]
    }
   ],
   "source": [
    "train , test , y_train = load_data()\n",
    "gc.collect()\n",
    "lable_group = LabelEncoder()\n",
    "Y = lable_group.fit_transform(y_train)\n",
    "\n",
    "NFOLDS = 5\n",
    "SEED = 0\n",
    "print(\"{},{}\".format(train.shape, test.shape))"
   ]
  },
  {
   "cell_type": "code",
   "execution_count": 8,
   "metadata": {
    "collapsed": true
   },
   "outputs": [],
   "source": [
    "x_train = train.values\n",
    "ntrain=train.shape[0]\n",
    "x_test = test.values\n",
    "ntest=test.shape[0]\n",
    "\n",
    "kf =StratifiedKFold(n_splits = NFOLDS,random_state=SEED)\n",
    "\n",
    "\n",
    "params = {\n",
    "    \"objective\": \"multi:softprob\",\n",
    "    'min_child_weight': 1,\n",
    "    \"num_class\": 12,\n",
    "    \"booster\": \"gbtree\",\n",
    "    'colsample_bytree': 0.5,  \n",
    "    'subsample': 0.8,\n",
    "    \"max_depth\": 4,\n",
    "    \"eval_metric\": \"mlogloss\",\n",
    "    \"eta\": 0.01,\n",
    "    \"silent\": 1,\n",
    "    \"alpha\": 1,\n",
    "    'gamma': 0,\n",
    "    'seed': SEED\n",
    "    }\n",
    "oof_train = np.zeros((ntrain,12))\n",
    "oof_test = np.zeros((ntest,12))"
   ]
  },
  {
   "cell_type": "code",
   "execution_count": 9,
   "metadata": {
    "collapsed": false
   },
   "outputs": [
    {
     "name": "stdout",
     "output_type": "stream",
     "text": [
      "\n",
      " Fold 1\n",
      "\n",
      "[0]\ttrain-mlogloss:2.47437\teval-mlogloss:2.47437\n",
      "Multiple eval metrics have been passed: 'eval-mlogloss' will be used for early stopping.\n",
      "\n",
      "Will train until eval-mlogloss hasn't improved in 20 rounds.\n",
      "[1]\ttrain-mlogloss:2.46448\teval-mlogloss:2.46447\n",
      "[2]\ttrain-mlogloss:2.45457\teval-mlogloss:2.45454\n",
      "[3]\ttrain-mlogloss:2.44523\teval-mlogloss:2.44521\n",
      "[4]\ttrain-mlogloss:2.43611\teval-mlogloss:2.43608\n",
      "[5]\ttrain-mlogloss:2.42678\teval-mlogloss:2.42675\n",
      "[6]\ttrain-mlogloss:2.41776\teval-mlogloss:2.41773\n",
      "[7]\ttrain-mlogloss:2.409\teval-mlogloss:2.40897\n",
      "[8]\ttrain-mlogloss:2.40018\teval-mlogloss:2.40014\n",
      "[9]\ttrain-mlogloss:2.39141\teval-mlogloss:2.39137\n",
      "[10]\ttrain-mlogloss:2.38293\teval-mlogloss:2.38289\n",
      "[11]\ttrain-mlogloss:2.37411\teval-mlogloss:2.37406\n",
      "[12]\ttrain-mlogloss:2.36562\teval-mlogloss:2.36557\n",
      "[13]\ttrain-mlogloss:2.35725\teval-mlogloss:2.35718\n",
      "[14]\ttrain-mlogloss:2.349\teval-mlogloss:2.34893\n",
      "[15]\ttrain-mlogloss:2.34147\teval-mlogloss:2.34141\n",
      "[16]\ttrain-mlogloss:2.33396\teval-mlogloss:2.3339\n",
      "[17]\ttrain-mlogloss:2.32605\teval-mlogloss:2.32598\n",
      "[18]\ttrain-mlogloss:2.31838\teval-mlogloss:2.31831\n",
      "[19]\ttrain-mlogloss:2.31099\teval-mlogloss:2.31091\n",
      "[20]\ttrain-mlogloss:2.30324\teval-mlogloss:2.30316\n",
      "[21]\ttrain-mlogloss:2.29616\teval-mlogloss:2.29607\n",
      "[22]\ttrain-mlogloss:2.28864\teval-mlogloss:2.28854\n",
      "[23]\ttrain-mlogloss:2.28142\teval-mlogloss:2.28132\n",
      "[24]\ttrain-mlogloss:2.27441\teval-mlogloss:2.27431\n",
      "[25]\ttrain-mlogloss:2.2675\teval-mlogloss:2.2674\n",
      "[26]\ttrain-mlogloss:2.261\teval-mlogloss:2.2609\n",
      "[27]\ttrain-mlogloss:2.25447\teval-mlogloss:2.25437\n",
      "[28]\ttrain-mlogloss:2.24812\teval-mlogloss:2.24802\n",
      "[29]\ttrain-mlogloss:2.24184\teval-mlogloss:2.24174\n",
      "[30]\ttrain-mlogloss:2.23559\teval-mlogloss:2.23548\n",
      "[31]\ttrain-mlogloss:2.22913\teval-mlogloss:2.22903\n",
      "[32]\ttrain-mlogloss:2.22272\teval-mlogloss:2.22261\n",
      "[33]\ttrain-mlogloss:2.21667\teval-mlogloss:2.21656\n",
      "[34]\ttrain-mlogloss:2.21018\teval-mlogloss:2.21008\n",
      "[35]\ttrain-mlogloss:2.20381\teval-mlogloss:2.20371\n",
      "[36]\ttrain-mlogloss:2.19781\teval-mlogloss:2.19771\n",
      "[37]\ttrain-mlogloss:2.19201\teval-mlogloss:2.19191\n",
      "[38]\ttrain-mlogloss:2.18633\teval-mlogloss:2.18622\n",
      "[39]\ttrain-mlogloss:2.18049\teval-mlogloss:2.18039\n",
      "[40]\ttrain-mlogloss:2.1749\teval-mlogloss:2.1748\n",
      "[41]\ttrain-mlogloss:2.16899\teval-mlogloss:2.16888\n",
      "[42]\ttrain-mlogloss:2.16334\teval-mlogloss:2.16324\n"
     ]
    },
    {
     "ename": "KeyboardInterrupt",
     "evalue": "",
     "output_type": "error",
     "traceback": [
      "\u001b[0;31m---------------------------------------------------------------------------\u001b[0m",
      "\u001b[0;31mKeyboardInterrupt\u001b[0m                         Traceback (most recent call last)",
      "\u001b[0;32m<ipython-input-9-7e79703e46c2>\u001b[0m in \u001b[0;36m<module>\u001b[0;34m()\u001b[0m\n\u001b[1;32m     12\u001b[0m                     \u001b[0md_train\u001b[0m\u001b[0;34m,\u001b[0m\u001b[0;34m\u001b[0m\u001b[0m\n\u001b[1;32m     13\u001b[0m                     \u001b[0;36m10000\u001b[0m\u001b[0;34m,\u001b[0m\u001b[0;34m\u001b[0m\u001b[0m\n\u001b[0;32m---> 14\u001b[0;31m                     evals= watchlist ,early_stopping_rounds=20)\n\u001b[0m\u001b[1;32m     15\u001b[0m \u001b[0;34m\u001b[0m\u001b[0m\n\u001b[1;32m     16\u001b[0m     \u001b[0moof_test\u001b[0m\u001b[0;34m[\u001b[0m\u001b[0;34m:\u001b[0m\u001b[0;34m]\u001b[0m \u001b[0;34m+=\u001b[0m \u001b[0mclf\u001b[0m\u001b[0;34m.\u001b[0m\u001b[0mpredict\u001b[0m\u001b[0;34m(\u001b[0m\u001b[0mxgb\u001b[0m\u001b[0;34m.\u001b[0m\u001b[0mDMatrix\u001b[0m\u001b[0;34m(\u001b[0m\u001b[0mx_test\u001b[0m\u001b[0;34m)\u001b[0m\u001b[0;34m,\u001b[0m \u001b[0mntree_limit\u001b[0m\u001b[0;34m=\u001b[0m\u001b[0mclf\u001b[0m\u001b[0;34m.\u001b[0m\u001b[0mbest_iteration\u001b[0m\u001b[0;34m)\u001b[0m\u001b[0;34m\u001b[0m\u001b[0m\n",
      "\u001b[0;32m/home/gavin/anaconda3/lib/python3.5/site-packages/xgboost/training.py\u001b[0m in \u001b[0;36mtrain\u001b[0;34m(params, dtrain, num_boost_round, evals, obj, feval, maximize, early_stopping_rounds, evals_result, verbose_eval, xgb_model, callbacks, learning_rates)\u001b[0m\n\u001b[1;32m    214\u001b[0m                            \u001b[0mevals\u001b[0m\u001b[0;34m=\u001b[0m\u001b[0mevals\u001b[0m\u001b[0;34m,\u001b[0m\u001b[0;34m\u001b[0m\u001b[0m\n\u001b[1;32m    215\u001b[0m                            \u001b[0mobj\u001b[0m\u001b[0;34m=\u001b[0m\u001b[0mobj\u001b[0m\u001b[0;34m,\u001b[0m \u001b[0mfeval\u001b[0m\u001b[0;34m=\u001b[0m\u001b[0mfeval\u001b[0m\u001b[0;34m,\u001b[0m\u001b[0;34m\u001b[0m\u001b[0m\n\u001b[0;32m--> 216\u001b[0;31m                            xgb_model=xgb_model, callbacks=callbacks)\n\u001b[0m\u001b[1;32m    217\u001b[0m \u001b[0;34m\u001b[0m\u001b[0m\n\u001b[1;32m    218\u001b[0m \u001b[0;34m\u001b[0m\u001b[0m\n",
      "\u001b[0;32m/home/gavin/anaconda3/lib/python3.5/site-packages/xgboost/training.py\u001b[0m in \u001b[0;36m_train_internal\u001b[0;34m(params, dtrain, num_boost_round, evals, obj, feval, xgb_model, callbacks)\u001b[0m\n\u001b[1;32m     72\u001b[0m         \u001b[0;31m# Skip the first update if it is a recovery step.\u001b[0m\u001b[0;34m\u001b[0m\u001b[0;34m\u001b[0m\u001b[0m\n\u001b[1;32m     73\u001b[0m         \u001b[0;32mif\u001b[0m \u001b[0mversion\u001b[0m \u001b[0;34m%\u001b[0m \u001b[0;36m2\u001b[0m \u001b[0;34m==\u001b[0m \u001b[0;36m0\u001b[0m\u001b[0;34m:\u001b[0m\u001b[0;34m\u001b[0m\u001b[0m\n\u001b[0;32m---> 74\u001b[0;31m             \u001b[0mbst\u001b[0m\u001b[0;34m.\u001b[0m\u001b[0mupdate\u001b[0m\u001b[0;34m(\u001b[0m\u001b[0mdtrain\u001b[0m\u001b[0;34m,\u001b[0m \u001b[0mi\u001b[0m\u001b[0;34m,\u001b[0m \u001b[0mobj\u001b[0m\u001b[0;34m)\u001b[0m\u001b[0;34m\u001b[0m\u001b[0m\n\u001b[0m\u001b[1;32m     75\u001b[0m             \u001b[0mbst\u001b[0m\u001b[0;34m.\u001b[0m\u001b[0msave_rabit_checkpoint\u001b[0m\u001b[0;34m(\u001b[0m\u001b[0;34m)\u001b[0m\u001b[0;34m\u001b[0m\u001b[0m\n\u001b[1;32m     76\u001b[0m             \u001b[0mversion\u001b[0m \u001b[0;34m+=\u001b[0m \u001b[0;36m1\u001b[0m\u001b[0;34m\u001b[0m\u001b[0m\n",
      "\u001b[0;32m/home/gavin/anaconda3/lib/python3.5/site-packages/xgboost/core.py\u001b[0m in \u001b[0;36mupdate\u001b[0;34m(self, dtrain, iteration, fobj)\u001b[0m\n\u001b[1;32m   1107\u001b[0m         \u001b[0;32mif\u001b[0m \u001b[0mfobj\u001b[0m \u001b[0;32mis\u001b[0m \u001b[0;32mNone\u001b[0m\u001b[0;34m:\u001b[0m\u001b[0;34m\u001b[0m\u001b[0m\n\u001b[1;32m   1108\u001b[0m             _check_call(_LIB.XGBoosterUpdateOneIter(self.handle, ctypes.c_int(iteration),\n\u001b[0;32m-> 1109\u001b[0;31m                                                     dtrain.handle))\n\u001b[0m\u001b[1;32m   1110\u001b[0m         \u001b[0;32melse\u001b[0m\u001b[0;34m:\u001b[0m\u001b[0;34m\u001b[0m\u001b[0m\n\u001b[1;32m   1111\u001b[0m             \u001b[0mpred\u001b[0m \u001b[0;34m=\u001b[0m \u001b[0mself\u001b[0m\u001b[0;34m.\u001b[0m\u001b[0mpredict\u001b[0m\u001b[0;34m(\u001b[0m\u001b[0mdtrain\u001b[0m\u001b[0;34m)\u001b[0m\u001b[0;34m\u001b[0m\u001b[0m\n",
      "\u001b[0;31mKeyboardInterrupt\u001b[0m: "
     ]
    }
   ],
   "source": [
    "for i, (train_index, test_index) in enumerate(kf.split(train,y_train)):\n",
    "    print('\\n Fold %d\\n' % (i + 1))\n",
    "    X_train, X_val = x_train[train_index], x_train[test_index]\n",
    "    y_train, y_val = Y[train_index], Y[test_index]\n",
    "    d_train = xgb.DMatrix(X_train, label=y_train)\n",
    "    d_valid = xgb.DMatrix(X_val, label=y_val)\n",
    "    watchlist = [(d_train, 'train'), (d_valid, 'eval')]\n",
    "    ################################\n",
    "        #PS : if you would like to test the performance of the model please make sure to give a notice to early stoping ,for some versions of xgboost it maximize the mlogloss not minimize\n",
    "    ################################\n",
    "    clf = xgb.train(params,\n",
    "                    d_train,\n",
    "                    10000,\n",
    "                    evals= watchlist ,early_stopping_rounds=20)\n",
    "\n",
    "    oof_test[:] += clf.predict(xgb.DMatrix(x_test), ntree_limit=clf.best_iteration)\n",
    "    oof_train[test_index]=clf.predict(xgb.DMatrix( X_val), ntree_limit=clf.best_iteration)\n",
    "    \n",
    "    \n",
    "oof_test /= NFOLDS\n",
    "\n",
    "\n",
    "\n",
    "xgb_predictions_test = pd.DataFrame(oof_test)\n",
    "xgb_prediction_train = pd.DataFrame(oof_train)\n",
    "\n",
    "xgb1_predictions_test.to_csv('xgb1_predictions_test.csv',index=None)\n",
    "xgb1_prediction_train.to_csv('xgb1_predictions_train.csv',index=None)\n",
    "\n",
    "\n",
    "print('-------- next stup : Stacking -----------')"
   ]
  }
 ],
 "metadata": {
  "anaconda-cloud": {},
  "kernelspec": {
   "display_name": "Python [default]",
   "language": "python",
   "name": "python3"
  },
  "language_info": {
   "codemirror_mode": {
    "name": "ipython",
    "version": 3
   },
   "file_extension": ".py",
   "mimetype": "text/x-python",
   "name": "python",
   "nbconvert_exporter": "python",
   "pygments_lexer": "ipython3",
   "version": "3.5.5"
  }
 },
 "nbformat": 4,
 "nbformat_minor": 1
}
